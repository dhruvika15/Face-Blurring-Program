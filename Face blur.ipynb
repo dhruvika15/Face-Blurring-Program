{
 "cells": [
  {
   "cell_type": "code",
   "execution_count": 1,
   "id": "242d3719",
   "metadata": {},
   "outputs": [],
   "source": [
    "import cv2\n",
    "cap=cv2.VideoCapture(0)\n",
    "model=cv2.CascadeClassifier(cv2.data.haarcascades + 'haarcascade_frontalface_default.xml')\n",
    "def face_blur(photo):\n",
    "    faces=model.detectMultiScale(photo)\n",
    "\n",
    "    if len(faces) != 0:\n",
    "\n",
    "        for nface in faces:\n",
    "\n",
    "            crop_photo= cv2.blur(photo[nface[1]:nface[1]+nface[3],nface[0]:nface[0]+nface[2]], (20,20))\n",
    "\n",
    "            photo[nface[1]:nface[1]+nface[3],nface[0]:nface[0]+nface[2]]= crop_photo\n",
    "\n",
    "        return photo\n",
    "\n",
    "    else: \n",
    "        return photo\n",
    "\n",
    "\n",
    "while True:\n",
    "    ret, photo = cap.read()\n",
    "    cv2.imshow(\"hello\", face_blur(photo)) \n",
    "    if cv2.waitKey(1) == 13:\n",
    "        break\n",
    "\n",
    "cv2.destroyAllWindows()\n",
    "cap.release()"
   ]
  },
  {
   "cell_type": "code",
   "execution_count": null,
   "id": "ac92735b",
   "metadata": {},
   "outputs": [],
   "source": []
  },
  {
   "cell_type": "code",
   "execution_count": null,
   "id": "21db3bdb",
   "metadata": {},
   "outputs": [],
   "source": []
  }
 ],
 "metadata": {
  "kernelspec": {
   "display_name": "Python 3",
   "language": "python",
   "name": "python3"
  },
  "language_info": {
   "codemirror_mode": {
    "name": "ipython",
    "version": 3
   },
   "file_extension": ".py",
   "mimetype": "text/x-python",
   "name": "python",
   "nbconvert_exporter": "python",
   "pygments_lexer": "ipython3",
   "version": "3.8.8"
  }
 },
 "nbformat": 4,
 "nbformat_minor": 5
}
